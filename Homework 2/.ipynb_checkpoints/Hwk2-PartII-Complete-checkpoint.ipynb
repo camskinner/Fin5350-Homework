{
 "cells": [
  {
   "cell_type": "markdown",
   "metadata": {},
   "source": [
    "## FIN 5350 - Homework 2"
   ]
  },
  {
   "cell_type": "code",
   "execution_count": 92,
   "metadata": {},
   "outputs": [],
   "source": [
    "import numpy as np\n",
    "from scipy.stats import binom\n",
    "\n",
    "def callPayoff(spot, strike):\n",
    "    return np.maximum(spot - strike, 0.0)\n",
    "\n",
    "def putPayoff(spot, strike):\n",
    "    return np.maximum(strike - spot, 0.0)\n",
    "\n",
    "def euroBinomPricerRecursiveMatrix(S, K, r, v, q, T, n, payoff, verbose = True):\n",
    "    nodes = n  + 1\n",
    "    h = T / n\n",
    "    u = 1.3\n",
    "    d = 0.8\n",
    "    pu = (np.exp((r - q) * h) - d) / (u - d)\n",
    "    pd = 1.0 - pu\n",
    "    disc = np.exp(-r * h)\n",
    "    \n",
    "    Ct = np.zeros((nodes, n+1))\n",
    "    St = np.zeros((nodes, n+1))\n",
    "    Dt = np.zeros((nodes, n+1))\n",
    "    Bt = np.zeros((nodes, n+1))\n",
    "    \n",
    "    for i in range(nodes):\n",
    "        St[i, n] = S * (u**(n-i)) * (d**i)\n",
    "        Ct[i, n] = payoff(St[i, n], K)\n",
    "    \n",
    "\n",
    "    for t in range((n-1), -1, -1):\n",
    "        for j in range(t+1):\n",
    "            St[j, t] = St[j, t+1] / u\n",
    "            Ct[j, t] = disc * ((pu * Ct[j, t+1]) + (pd * Ct[j+1, t+1]))\n",
    "            D = Dt[j, t] = np.exp(-q * h) * (Ct[j, t+1] - Ct[j+1, t+1]) / (St[j, t] * (u - d))\n",
    "            B = Bt[j, t] = np.exp(-r * h) * (((u * Ct[j + 1, t+1]) - (d * Ct[j, t+ 1]))/(u - d))\n",
    "            \n",
    "        \n",
    "    if verbose:\n",
    "        print(np.around(St, 3))\n",
    "        print(\"\\n\")\n",
    "        print(np.around(Ct, 3))\n",
    "        print(\"\\n\")\n",
    "        print(np.around(Dt, 3))\n",
    "        print(\"\\n\")\n",
    "        print(np.around(Bt, 3))\n",
    "                    \n",
    "            \n",
    "    return Ct[0,0]"
   ]
  },
  {
   "cell_type": "markdown",
   "metadata": {},
   "source": [
    "##### __Problem 1__\n",
    " \n",
    "##### Let $S = \\$100$, $K = \\$105$, $r = 8\\%$, $T = 0.5$, and $\\delta = 0.0$. Let $u = 1.3$, $d = 0.8$, and $n = 1$.\n",
    "\n",
    "##### a. What are the premium, $\\Delta$, and $B$ for a European call?"
   ]
  },
  {
   "cell_type": "code",
   "execution_count": 81,
   "metadata": {},
   "outputs": [
    {
     "name": "stdout",
     "output_type": "stream",
     "text": [
      "The Call Premium is: 11.5684\n",
      "Delta is: 0.5\n",
      "B is: -38.4316\n"
     ]
    }
   ],
   "source": [
    "S = 100.0\n",
    "K = 105.0\n",
    "r = 0.08\n",
    "q = 0.0\n",
    "T = 0.5\n",
    "n = 1.0\n",
    "h = T / n\n",
    "u = 1.3\n",
    "d = 0.8\n",
    "\n",
    "fu = callPayoff(u * S, K)\n",
    "fd = callPayoff(d * S, K)\n",
    "D = (fu - fd)/(S * (u - d))\n",
    "B = np.exp(-r * h) * ((u * fd - d * fu)/ (u - d))\n",
    "f = S * D + B\n",
    "\n",
    "print(f\"The Call Premium is: {f:0.4f}\")\n",
    "print(f\"Delta is: {D}\")\n",
    "print(f\"B is: {B:0.4f}\")"
   ]
  },
  {
   "cell_type": "markdown",
   "metadata": {},
   "source": [
    "##### b. What are the premium, $\\Delta$, and $B$ for a European put?"
   ]
  },
  {
   "cell_type": "code",
   "execution_count": 82,
   "metadata": {},
   "outputs": [
    {
     "name": "stdout",
     "output_type": "stream",
     "text": [
      "The Put Premium is: 12.4513\n",
      "Delta is: -0.5\n",
      "B is: 62.4513\n"
     ]
    }
   ],
   "source": [
    "fu = putPayoff(u * S, K)\n",
    "fd = putPayoff(d * S, K)\n",
    "D = (fu - fd)/(S * (u - d))\n",
    "B = np.exp(-r * h) * ((u * fd - d * fu)/ (u - d))\n",
    "f = S * D + B\n",
    "print(f\"The Put Premium is: {f:0.4f}\")\n",
    "print(f\"Delta is: {D}\")\n",
    "print(f\"B is: {B:0.4f}\")"
   ]
  },
  {
   "cell_type": "markdown",
   "metadata": {},
   "source": [
    "##### __Problem 2__\n",
    "\n",
    "##### Let $S = \\$100$, $K = \\$95$, $r = 8\\%$, $T = 0.5$, and $\\delta = 0.0$. Let $u = 1.3$, $d = 0.8$, and $n = 1$.\n",
    "\n",
    "##### a. Verify that the price of a European put is $\\$7.471$."
   ]
  },
  {
   "cell_type": "code",
   "execution_count": 83,
   "metadata": {},
   "outputs": [
    {
     "name": "stdout",
     "output_type": "stream",
     "text": [
      "The Put Premium is: 7.4708\n"
     ]
    }
   ],
   "source": [
    "S = 100.0\n",
    "K = 95.0\n",
    "r = 0.08\n",
    "q = 0.0\n",
    "T = 0.5\n",
    "n = 1.0\n",
    "h = T / n\n",
    "u = 1.3\n",
    "d = 0.8\n",
    "\n",
    "fu = putPayoff(u * S, K)\n",
    "fd = putPayoff(d * S, K)\n",
    "D = (fu - fd)/(S * (u - d))\n",
    "B = np.exp(-r * h) * ((u * fd - d * fu)/ (u - d))\n",
    "f = S * D + B\n",
    "print(f\"The Put Premium is: {f:0.4f}\")"
   ]
  },
  {
   "cell_type": "markdown",
   "metadata": {},
   "source": [
    "##### b. Suppose you observe a call price of $\\$17$. What is the arbitrage?"
   ]
  },
  {
   "cell_type": "code",
   "execution_count": 84,
   "metadata": {},
   "outputs": [
    {
     "name": "stdout",
     "output_type": "stream",
     "text": [
      "The arbitrage is: 0.8042\n"
     ]
    }
   ],
   "source": [
    "fu = callPayoff(u * S, K)\n",
    "fd = callPayoff(d * S, K)\n",
    "D = (fu - fd)/(S * (u - d))\n",
    "B = np.exp(-r * h) * ((u * fd - d * fu)/ (u - d))\n",
    "f = S * D + B\n",
    "print(f\"The arbitrage is: {np.maximum(17-f, f-17):0.4f}\")"
   ]
  },
  {
   "cell_type": "markdown",
   "metadata": {},
   "source": [
    "##### c. Suppose you observe a call price of $\\$15.50$. What is the arbitrage?"
   ]
  },
  {
   "cell_type": "code",
   "execution_count": 85,
   "metadata": {},
   "outputs": [
    {
     "name": "stdout",
     "output_type": "stream",
     "text": [
      "The arbitrage is: 0.6958\n"
     ]
    }
   ],
   "source": [
    "print(f\"The arbitrage is: {np.maximum(15.50-f, f-15.50):0.4f}\")"
   ]
  },
  {
   "cell_type": "markdown",
   "metadata": {},
   "source": [
    "##### __Problem 3__\n",
    "\n",
    "##### Let $S = \\$100$, $K = \\$95$, $\\sigma = 30\\%$, $r = 8\\%$, $T = 1$, and $\\delta = 0.0$. Let $u = 1.3$, $d = 0.8$, and $n = 2$. Construct the binomial tree for a call option. At each node provide the premium, $\\Delta$, and $B$."
   ]
  },
  {
   "cell_type": "code",
   "execution_count": 101,
   "metadata": {},
   "outputs": [
    {
     "name": "stdout",
     "output_type": "stream",
     "text": [
      "1. Spot Price\n",
      "2. Call Price\n",
      "3. Delta\n",
      "4. B\n",
      "\n",
      "\n",
      "[[100. 130. 169.]\n",
      " [  0.  80. 104.]\n",
      " [  0.   0.  64.]]\n",
      "\n",
      "\n",
      "[[19.994 38.725 74.   ]\n",
      " [ 0.     4.165  9.   ]\n",
      " [ 0.     0.     0.   ]]\n",
      "\n",
      "\n",
      "[[0.691 1.    0.   ]\n",
      " [0.    0.225 0.   ]\n",
      " [0.    0.    0.   ]]\n",
      "\n",
      "\n",
      "[[-49.127 -91.275   0.   ]\n",
      " [  0.    -13.835   0.   ]\n",
      " [  0.      0.      0.   ]]\n",
      "\n",
      "\n",
      "The Call Premium is:  19.9937\n"
     ]
    }
   ],
   "source": [
    "S = 100\n",
    "K = 95\n",
    "r = 0.08\n",
    "v = 0.30\n",
    "q = 0.0\n",
    "T = 1\n",
    "n = 2\n",
    "\n",
    "print(f\"1. Spot Price\\n2. Call Price\\n3. Delta\\n4. B\")\n",
    "print(\"\\n\")\n",
    "callPrc = euroBinomPricerRecursiveMatrix(S, K, r, v, q, T, n, callPayoff,  verbose = True)\n",
    "print(\"\\n\")\n",
    "print(f\"The Call Premium is: {callPrc : 0.4f}\")"
   ]
  },
  {
   "cell_type": "markdown",
   "metadata": {},
   "source": [
    "##### __Problem 4__\n",
    "\n",
    "Repeat the option price calculation in the previous question for stock prices of $\\$80$, $\\$90$, $\\$110$,\n",
    "$\\$120$, and $\\$130$, but now let $n = 3$. Keep everyting else fixed. What happens to the initial option\n",
    "$\\Delta$ as the stock price increases?"
   ]
  },
  {
   "cell_type": "code",
   "execution_count": 102,
   "metadata": {},
   "outputs": [
    {
     "name": "stdout",
     "output_type": "stream",
     "text": [
      "1. Spot Price\n",
      "2. Call Price\n",
      "3. Delta\n",
      "4. B\n",
      "\n",
      "\n",
      "[[ 80.   104.   135.2  175.76]\n",
      " [  0.    64.    83.2  108.16]\n",
      " [  0.     0.    51.2   66.56]\n",
      " [  0.     0.     0.    40.96]]\n",
      "\n",
      "\n",
      "[[11.081 21.971 42.7   80.76 ]\n",
      " [ 0.     2.572  5.818 13.16 ]\n",
      " [ 0.     0.     0.     0.   ]\n",
      " [ 0.     0.     0.     0.   ]]\n",
      "\n",
      "\n",
      "[[0.485 0.709 1.    0.   ]\n",
      " [0.    0.182 0.316 0.   ]\n",
      " [0.    0.    0.    0.   ]\n",
      " [0.    0.    0.    0.   ]]\n",
      "\n",
      "\n",
      "[[-27.716 -51.793 -92.5     0.   ]\n",
      " [  0.     -9.064 -20.502   0.   ]\n",
      " [  0.      0.      0.      0.   ]\n",
      " [  0.      0.      0.      0.   ]]\n",
      "\n",
      "\n",
      "The Call Premium is:  11.0806\n"
     ]
    }
   ],
   "source": [
    "S = 80\n",
    "K = 95\n",
    "r = 0.08\n",
    "v = 0.30\n",
    "q = 0.0\n",
    "T = 1\n",
    "n = 3\n",
    "\n",
    "print(f\"1. Spot Price\\n2. Call Price\\n3. Delta\\n4. B\")\n",
    "print(\"\\n\")\n",
    "callPrc = euroBinomPricerRecursiveMatrix(S, K, r, v, q, T, n, callPayoff,  verbose = True)\n",
    "print(\"\\n\")\n",
    "print(f\"The Call Premium is: {callPrc : 0.4f}\")"
   ]
  },
  {
   "cell_type": "code",
   "execution_count": 103,
   "metadata": {},
   "outputs": [
    {
     "name": "stdout",
     "output_type": "stream",
     "text": [
      "1. Spot Price\n",
      "2. Call Price\n",
      "3. Delta\n",
      "4. B\n",
      "\n",
      "\n",
      "[[ 90.  117.  152.1]\n",
      " [  0.   72.   93.6]\n",
      " [  0.    0.   57.6]]\n",
      "\n",
      "\n",
      "[[12.227 26.422 57.1  ]\n",
      " [ 0.     0.     0.   ]\n",
      " [ 0.     0.     0.   ]]\n",
      "\n",
      "\n",
      "[[0.587 0.976 0.   ]\n",
      " [0.    0.    0.   ]\n",
      " [0.    0.    0.   ]]\n",
      "\n",
      "\n",
      "[[-40.618 -87.778   0.   ]\n",
      " [  0.      0.      0.   ]\n",
      " [  0.      0.      0.   ]]\n",
      "\n",
      "\n",
      "The Call Premium is:  12.2266\n"
     ]
    }
   ],
   "source": [
    "S = 90\n",
    "K = 95\n",
    "r = 0.08\n",
    "v = 0.30\n",
    "q = 0.0\n",
    "T = 1\n",
    "n = 2\n",
    "\n",
    "print(f\"1. Spot Price\\n2. Call Price\\n3. Delta\\n4. B\")\n",
    "print(\"\\n\")\n",
    "callPrc = euroBinomPricerRecursiveMatrix(S, K, r, v, q, T, n, callPayoff,  verbose = True)\n",
    "print(\"\\n\")\n",
    "print(f\"The Call Premium is: {callPrc : 0.4f}\")"
   ]
  },
  {
   "cell_type": "code",
   "execution_count": 104,
   "metadata": {},
   "outputs": [
    {
     "name": "stdout",
     "output_type": "stream",
     "text": [
      "1. Spot Price\n",
      "2. Call Price\n",
      "3. Delta\n",
      "4. B\n",
      "\n",
      "\n",
      "[[110.  143.  185.9]\n",
      " [  0.   88.  114.4]\n",
      " [  0.    0.   70.4]]\n",
      "\n",
      "\n",
      "[[28.406 51.725 90.9  ]\n",
      " [ 0.     8.977 19.4  ]\n",
      " [ 0.     0.     0.   ]]\n",
      "\n",
      "\n",
      "[[0.777 1.    0.   ]\n",
      " [0.    0.441 0.   ]\n",
      " [0.    0.    0.   ]]\n",
      "\n",
      "\n",
      "[[-57.09  -91.275   0.   ]\n",
      " [  0.    -29.823   0.   ]\n",
      " [  0.      0.      0.   ]]\n",
      "\n",
      "\n",
      "The Call Premium is:  28.4061\n"
     ]
    }
   ],
   "source": [
    "S = 110\n",
    "K = 95\n",
    "r = 0.08\n",
    "v = 0.30\n",
    "q = 0.0\n",
    "T = 1\n",
    "n = 2\n",
    "\n",
    "print(f\"1. Spot Price\\n2. Call Price\\n3. Delta\\n4. B\")\n",
    "print(\"\\n\")\n",
    "callPrc = euroBinomPricerRecursiveMatrix(S, K, r, v, q, T, n, callPayoff,  verbose = True)\n",
    "print(\"\\n\")\n",
    "print(f\"The Call Premium is: {callPrc : 0.4f}\")"
   ]
  },
  {
   "cell_type": "code",
   "execution_count": 105,
   "metadata": {},
   "outputs": [
    {
     "name": "stdout",
     "output_type": "stream",
     "text": [
      "1. Spot Price\n",
      "2. Call Price\n",
      "3. Delta\n",
      "4. B\n",
      "\n",
      "\n",
      "[[120.  156.  202.8]\n",
      " [  0.   96.  124.8]\n",
      " [  0.    0.   76.8]]\n",
      "\n",
      "\n",
      "[[ 36.819  64.725 107.8  ]\n",
      " [  0.     13.79   29.8  ]\n",
      " [  0.      0.      0.   ]]\n",
      "\n",
      "\n",
      "[[0.849 1.    0.   ]\n",
      " [0.    0.621 0.   ]\n",
      " [0.    0.    0.   ]]\n",
      "\n",
      "\n",
      "[[-65.052 -91.275   0.   ]\n",
      " [  0.    -45.81    0.   ]\n",
      " [  0.      0.      0.   ]]\n",
      "\n",
      "\n",
      "The Call Premium is:  36.8186\n"
     ]
    }
   ],
   "source": [
    "S = 120\n",
    "K = 95\n",
    "r = 0.08\n",
    "v = 0.30\n",
    "q = 0.0\n",
    "T = 1\n",
    "n = 2\n",
    "\n",
    "print(f\"1. Spot Price\\n2. Call Price\\n3. Delta\\n4. B\")\n",
    "print(\"\\n\")\n",
    "callPrc = euroBinomPricerRecursiveMatrix(S, K, r, v, q, T, n, callPayoff,  verbose = True)\n",
    "print(\"\\n\")\n",
    "print(f\"The Call Premium is: {callPrc : 0.4f}\")"
   ]
  },
  {
   "cell_type": "code",
   "execution_count": 106,
   "metadata": {},
   "outputs": [
    {
     "name": "stdout",
     "output_type": "stream",
     "text": [
      "1. Spot Price\n",
      "2. Call Price\n",
      "3. Delta\n",
      "4. B\n",
      "\n",
      "\n",
      "[[130.  169.  219.7]\n",
      " [  0.  104.  135.2]\n",
      " [  0.    0.   83.2]]\n",
      "\n",
      "\n",
      "[[ 45.231  77.725 124.7  ]\n",
      " [  0.     18.602  40.2  ]\n",
      " [  0.      0.      0.   ]]\n",
      "\n",
      "\n",
      "[[0.91  1.    0.   ]\n",
      " [0.    0.773 0.   ]\n",
      " [0.    0.    0.   ]]\n",
      "\n",
      "\n",
      "[[-73.015 -91.275   0.   ]\n",
      " [  0.    -61.798   0.   ]\n",
      " [  0.      0.      0.   ]]\n",
      "\n",
      "\n",
      "The Call Premium is:  45.2310\n"
     ]
    }
   ],
   "source": [
    "S = 130\n",
    "K = 95\n",
    "r = 0.08\n",
    "v = 0.30\n",
    "q = 0.0\n",
    "T = 1\n",
    "n = 2\n",
    "\n",
    "print(f\"1. Spot Price\\n2. Call Price\\n3. Delta\\n4. B\")\n",
    "print(\"\\n\")\n",
    "callPrc = euroBinomPricerRecursiveMatrix(S, K, r, v, q, T, n, callPayoff,  verbose = True)\n",
    "print(\"\\n\")\n",
    "print(f\"The Call Premium is: {callPrc : 0.4f}\")"
   ]
  },
  {
   "cell_type": "markdown",
   "metadata": {},
   "source": [
    "###### Delta increases at a decreasing rate as the spot price increases."
   ]
  },
  {
   "cell_type": "markdown",
   "metadata": {},
   "source": [
    "##### __Problem 5__\n",
    "\n",
    "Let $S = \\$100$, $K = \\$95$, $r = 8\\%$ (continuously compounded), $\\sigma = 30\\%$, $\\delta = 0$, and $T = 1$ year and $n = 3$."
   ]
  },
  {
   "cell_type": "markdown",
   "metadata": {},
   "source": [
    "##### a. What is the premium for an American call option? Is there any early exercise?"
   ]
  },
  {
   "cell_type": "code",
   "execution_count": 121,
   "metadata": {},
   "outputs": [],
   "source": [
    "def BinomPricerRecursiveMatrix(S, K, r, v, q, T, n, payoff, verbose = True):\n",
    "    nodes = n  + 1\n",
    "    h = T / n\n",
    "    u = np.exp((r - q) * h + v * np.sqrt(h))\n",
    "    d = np.exp((r - q) * h - v * np.sqrt(h))\n",
    "    pu = (np.exp((r - q) * h) - d) / (u - d)\n",
    "    pd = 1.0 - pu\n",
    "    disc = np.exp(-r * h)\n",
    "    \n",
    "    Ct = np.zeros((nodes, n+1))\n",
    "    St = np.zeros((nodes, n+1))\n",
    "    \n",
    "    for i in range(nodes):\n",
    "        St[i, n] = S * (u**(n-i)) * (d**i)\n",
    "        Ct[i, n] = payoff(St[i, n], K)\n",
    "    \n",
    "\n",
    "    for t in range((n-1), -1, -1):\n",
    "        for j in range(t+1):\n",
    "            St[j, t] = St[j, t+1] / u\n",
    "            Ct[j, t] = disc * ((pu * Ct[j, t+1]) + (pd * Ct[j+1, t+1]))\n",
    "        \n",
    "    if verbose:\n",
    "        print(np.around(St, 3))\n",
    "        print(\"\\n\")\n",
    "        print(np.around(Ct, 3))\n",
    "        print(\"\\n\")\n",
    "                    \n",
    "            \n",
    "    return Ct[0,0]"
   ]
  },
  {
   "cell_type": "code",
   "execution_count": 124,
   "metadata": {},
   "outputs": [
    {
     "name": "stdout",
     "output_type": "stream",
     "text": [
      "[[100.    122.125 149.144 182.142]\n",
      " [  0.     86.369 105.478 128.815]\n",
      " [  0.      0.     74.596  91.101]\n",
      " [  0.      0.      0.     64.428]]\n",
      "\n",
      "\n",
      "[[18.283 33.149 56.644 87.142]\n",
      " [ 0.     6.69  15.04  33.815]\n",
      " [ 0.     0.     0.     0.   ]\n",
      " [ 0.     0.     0.     0.   ]]\n",
      "\n",
      "\n",
      "The American Call Premium is:  18.2826\n"
     ]
    }
   ],
   "source": [
    "S = 100\n",
    "K = 95\n",
    "r = 0.08\n",
    "v = 0.30\n",
    "q = 0.0\n",
    "T = 1\n",
    "n = 3\n",
    "\n",
    "callPrc = BinomPricerRecursiveMatrix(S, K, r, v, q, T, n, callPayoff, verbose = True)\n",
    "print(f\"The American Call Premium is: {callPrc : 0.4f}\")"
   ]
  },
  {
   "cell_type": "markdown",
   "metadata": {},
   "source": [
    "###### There is no early exercise because there is no dividend."
   ]
  },
  {
   "cell_type": "markdown",
   "metadata": {},
   "source": [
    "##### b. What is the premium for a European call option? Use the computational shortcut with the risk-neutral binomial pmf that I showed you in class. Compare the American and European premia."
   ]
  },
  {
   "cell_type": "code",
   "execution_count": 125,
   "metadata": {},
   "outputs": [],
   "source": [
    "def euroBinomPricer(S, K, r, v, q, T, n, payoff, verbose = True):\n",
    "    nodes = n  + 1\n",
    "    h = T / n\n",
    "    u = np.exp((r - q) * h + v * np.sqrt(h))\n",
    "    d = np.exp((r - q) * h - v * np.sqrt(h))\n",
    "    pstar = (np.exp((r - q) * h) - d) / (u - d)\n",
    "    \n",
    "    price = 0.0\n",
    "    \n",
    "    for i in range(nodes):\n",
    "        prob = binom.pmf(i, n, pstar)\n",
    "        spotT = S * (u ** i) * (d ** (n - i))\n",
    "        po = payoff(spotT, K) \n",
    "        price += po * prob\n",
    "        if verbose:\n",
    "            print(f\"({spotT:0.4f}, {po:0.4f}, {prob:0.4f})\")\n",
    "        \n",
    "    price *= np.exp(-r * T)\n",
    "    \n",
    "    return price"
   ]
  },
  {
   "cell_type": "code",
   "execution_count": 126,
   "metadata": {},
   "outputs": [
    {
     "name": "stdout",
     "output_type": "stream",
     "text": [
      "(64.4284, 0.0000, 0.1603)\n",
      "(91.1007, 0.0000, 0.4044)\n",
      "(128.8147, 33.8147, 0.3400)\n",
      "(182.1418, 87.1418, 0.0953)\n",
      "The European Call Premium is:  18.2826\n"
     ]
    }
   ],
   "source": [
    "callPrc = euroBinomPricer(S, K, r, v, q, T, n, callPayoff, verbose = True)\n",
    "print(f\"The European Call Premium is: {callPrc : 0.4f}\")"
   ]
  },
  {
   "cell_type": "markdown",
   "metadata": {},
   "source": [
    "###### The American and European call premia are equivalent."
   ]
  },
  {
   "cell_type": "markdown",
   "metadata": {},
   "source": [
    "##### c. What is the premium for a European put? Does put-call parity hold? (see McDonald Chapter 9). Also use the risk-neutral binomial pmf for this problem."
   ]
  },
  {
   "cell_type": "code",
   "execution_count": 127,
   "metadata": {},
   "outputs": [
    {
     "name": "stdout",
     "output_type": "stream",
     "text": [
      "(64.4284, 30.5716, 0.1603)\n",
      "(91.1007, 3.8993, 0.4044)\n",
      "(128.8147, 0.0000, 0.3400)\n",
      "(182.1418, 0.0000, 0.0953)\n",
      "The European Put Premium is:  5.9786\n"
     ]
    }
   ],
   "source": [
    "putPrc = euroBinomPricer(S, K, r, v, q, T, n, putPayoff, verbose = True)\n",
    "print(f\"The European Put Premium is: {putPrc : 0.4f}\")"
   ]
  },
  {
   "cell_type": "code",
   "execution_count": 131,
   "metadata": {},
   "outputs": [
    {
     "name": "stdout",
     "output_type": "stream",
     "text": [
      "12.3039470932696\n"
     ]
    },
    {
     "data": {
      "text/plain": [
       "12.303947093269588"
      ]
     },
     "execution_count": 131,
     "metadata": {},
     "output_type": "execute_result"
    }
   ],
   "source": [
    "parity = S - (K * np.exp(-r*T))\n",
    "print(parity)\n",
    "callPrc - putPrc"
   ]
  },
  {
   "cell_type": "markdown",
   "metadata": {},
   "source": [
    "###### Put-call parity holds. 12.3039 = 12.3039"
   ]
  },
  {
   "cell_type": "markdown",
   "metadata": {},
   "source": [
    "##### d. What is the premium of the American put? Compare with the European put. If they differ, explain why."
   ]
  },
  {
   "cell_type": "code",
   "execution_count": 142,
   "metadata": {},
   "outputs": [],
   "source": [
    "def americanBinomPricerRecursive(S, K, r, v, q, T, n, payoff, verbose = True):\n",
    "    nodes = n  + 1\n",
    "    h = T / n\n",
    "    u = np.exp((r - q) * h + v * np.sqrt(h))\n",
    "    d = np.exp((r - q) * h - v * np.sqrt(h))\n",
    "    pu = (np.exp((r - q) * h) - d) / (u - d)\n",
    "    pd = 1.0 - pu\n",
    "    disc = np.exp(-r * h)\n",
    "    \n",
    "    Ct = np.empty(nodes)\n",
    "    St = np.empty(nodes)\n",
    "    \n",
    "    for i in range(nodes):\n",
    "        St[i] = S * (u ** (n - i)) * (d ** i)\n",
    "        Ct[i] = payoff(St[i], K)\n",
    "    \n",
    "    if verbose:\n",
    "        print(Ct)\n",
    "        \n",
    "    for t in range((n - 1), -1, -1):\n",
    "        for j in range(t+1):\n",
    "            Ct[j] = disc * (pu * Ct[j] + pd * Ct[j+1])\n",
    "            St[j] = St[j] / u\n",
    "            Ct[j] = np.maximum(Ct[j], K - St[j])\n",
    "            print(Ct)\n",
    "            \n",
    "    return Ct[0]"
   ]
  },
  {
   "cell_type": "code",
   "execution_count": 143,
   "metadata": {},
   "outputs": [
    {
     "name": "stdout",
     "output_type": "stream",
     "text": [
      "[ 0.          0.          3.16660277 11.16886174]\n",
      "[ 0.          0.          3.16660277 11.16886174]\n",
      "[ 0.          1.65788424  3.16660277 11.16886174]\n",
      "[ 0.          1.65788424  7.84406148 11.16886174]\n",
      "[ 0.86799019  1.65788424  7.84406148 11.16886174]\n",
      "[ 0.86799019  4.8747172   7.84406148 11.16886174]\n",
      "[ 2.95422756  4.8747172   7.84406148 11.16886174]\n",
      "The American Put Premium is:  2.9542\n"
     ]
    }
   ],
   "source": [
    "putPrc = americanBinomPricerRecursive(S, K, r, v, q, T, n, putPayoff, verbose = True)\n",
    "print(f\"The American Put Premium is: {putPrc : 0.4f}\")"
   ]
  },
  {
   "cell_type": "markdown",
   "metadata": {},
   "source": [
    "###### The American put is worth more because there is the option for early exercise."
   ]
  },
  {
   "cell_type": "markdown",
   "metadata": {},
   "source": [
    "##### __Problem 6__\n",
    "\n",
    "Let $S = \\$40$, $K = \\$40$, $r = 8\\%$ (continuously compounded), $\\sigma = 30\\%$, $\\delta = 0.0$, $T = 0.5$ year,\n",
    "and $n = 3$."
   ]
  },
  {
   "cell_type": "code",
   "execution_count": 141,
   "metadata": {},
   "outputs": [],
   "source": [
    "S = 40\n",
    "K = 40\n",
    "r = 0.08\n",
    "v = 0.30\n",
    "q = 0.0\n",
    "T = 0.5\n",
    "n = 3\n",
    "h = T/n\n",
    "\n",
    "u6 = np.exp((r - q) * h + v * np.sqrt(h))\n",
    "d6 = np.exp((r - q) * h - v * np.sqrt(h))"
   ]
  },
  {
   "cell_type": "markdown",
   "metadata": {},
   "source": [
    "##### a. Construct the binomial tree for the stock. What are $u$ and $d$?"
   ]
  },
  {
   "cell_type": "code",
   "execution_count": 148,
   "metadata": {},
   "outputs": [
    {
     "name": "stdout",
     "output_type": "stream",
     "text": [
      "[[40.    45.818 52.483 60.118]\n",
      " [ 0.    35.864 41.081 47.057]\n",
      " [ 0.     0.    32.156 36.833]\n",
      " [ 0.     0.     0.    28.831]]\n",
      "\n",
      "\n",
      "[[ 4.377  7.739 13.013 20.118]\n",
      " [ 0.     1.514  3.269  7.057]\n",
      " [ 0.     0.     0.     0.   ]\n",
      " [ 0.     0.     0.     0.   ]]\n",
      "\n",
      "\n",
      "[[40.    45.818 52.483 60.118]\n",
      " [ 0.    35.864 41.081 47.057]\n",
      " [ 0.     0.    32.156 36.833]\n",
      " [ 0.     0.     0.    28.831]]\n",
      "\n",
      "\n",
      "[[ 2.809  0.868  0.     0.   ]\n",
      " [ 0.     4.597  1.658  0.   ]\n",
      " [ 0.     0.     7.314  3.167]\n",
      " [ 0.     0.     0.    11.169]]\n",
      "\n",
      "\n",
      "u is 1.1455 and d is 0.8966\n"
     ]
    }
   ],
   "source": [
    "callPrc = BinomPricerRecursiveMatrix(S, K, r, v, q, T, n, callPayoff, verbose = True)\n",
    "putPrc = BinomPricerRecursiveMatrix(S, K, r, v, q, T, n, putPayoff, verbose = True)\n",
    "print(f\"u is {u6:0.4f} and d is {d6:0.4f}\")"
   ]
  },
  {
   "cell_type": "markdown",
   "metadata": {},
   "source": [
    "##### b. Compute the premia of American and European calls and puts."
   ]
  },
  {
   "cell_type": "code",
   "execution_count": 149,
   "metadata": {},
   "outputs": [
    {
     "name": "stdout",
     "output_type": "stream",
     "text": [
      "[ 0.          0.          3.16660277 11.16886174]\n",
      "[ 0.          0.          3.16660277 11.16886174]\n",
      "[ 0.          1.65788424  3.16660277 11.16886174]\n",
      "[ 0.          1.65788424  7.84406148 11.16886174]\n",
      "[ 0.86799019  1.65788424  7.84406148 11.16886174]\n",
      "[ 0.86799019  4.8747172   7.84406148 11.16886174]\n",
      "[ 2.95422756  4.8747172   7.84406148 11.16886174]\n",
      "The American Put Premium is:  2.9542\n",
      "The American Call Premium is:  4.3774\n",
      "The European Put Premium is:  2.8090\n",
      "The European Call Premium is:  4.3774\n"
     ]
    }
   ],
   "source": [
    "putPrcA = americanBinomPricerRecursive(S, K, r, v, q, T, n, putPayoff, verbose = True)\n",
    "print(f\"The American Put Premium is: {putPrcA : 0.4f}\")\n",
    "print(f\"The American Call Premium is: {callPrc : 0.4f}\")\n",
    "print(f\"The European Put Premium is: {putPrc : 0.4f}\")\n",
    "print(f\"The European Call Premium is: {callPrc : 0.4f}\")"
   ]
  },
  {
   "cell_type": "code",
   "execution_count": null,
   "metadata": {},
   "outputs": [],
   "source": []
  }
 ],
 "metadata": {
  "kernelspec": {
   "display_name": "Python 3",
   "language": "python",
   "name": "python3"
  },
  "language_info": {
   "codemirror_mode": {
    "name": "ipython",
    "version": 3
   },
   "file_extension": ".py",
   "mimetype": "text/x-python",
   "name": "python",
   "nbconvert_exporter": "python",
   "pygments_lexer": "ipython3",
   "version": "3.6.5"
  }
 },
 "nbformat": 4,
 "nbformat_minor": 2
}
